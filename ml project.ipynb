{
 "cells": [
  {
   "cell_type": "markdown",
   "id": "1a81fc39",
   "metadata": {},
   "source": [
    "## DRAGON REAL ESTATE PRICE-PREDICTOR\n",
    "\n"
   ]
  },
  {
   "cell_type": "code",
   "execution_count": 1,
   "id": "8c965f23",
   "metadata": {},
   "outputs": [],
   "source": [
    "import pandas as pd\n"
   ]
  },
  {
   "cell_type": "code",
   "execution_count": 2,
   "id": "629197d7",
   "metadata": {},
   "outputs": [],
   "source": [
    "housing=pd.read_csv(\"data.csv\")"
   ]
  },
  {
   "cell_type": "code",
   "execution_count": 3,
   "id": "4ff6c64f",
   "metadata": {},
   "outputs": [
    {
     "data": {
      "text/html": [
       "<div>\n",
       "<style scoped>\n",
       "    .dataframe tbody tr th:only-of-type {\n",
       "        vertical-align: middle;\n",
       "    }\n",
       "\n",
       "    .dataframe tbody tr th {\n",
       "        vertical-align: top;\n",
       "    }\n",
       "\n",
       "    .dataframe thead th {\n",
       "        text-align: right;\n",
       "    }\n",
       "</style>\n",
       "<table border=\"1\" class=\"dataframe\">\n",
       "  <thead>\n",
       "    <tr style=\"text-align: right;\">\n",
       "      <th></th>\n",
       "      <th>CRIM</th>\n",
       "      <th>ZN</th>\n",
       "      <th>INDUS</th>\n",
       "      <th>CHAS</th>\n",
       "      <th>NOX</th>\n",
       "      <th>RM</th>\n",
       "      <th>AGE</th>\n",
       "      <th>DIS</th>\n",
       "      <th>RAD</th>\n",
       "      <th>TAX</th>\n",
       "      <th>PTRATIO</th>\n",
       "      <th>B</th>\n",
       "      <th>LSTAT</th>\n",
       "      <th>MEDV</th>\n",
       "    </tr>\n",
       "  </thead>\n",
       "  <tbody>\n",
       "    <tr>\n",
       "      <th>0</th>\n",
       "      <td>0.00632</td>\n",
       "      <td>1.00632</td>\n",
       "      <td>2.00632</td>\n",
       "      <td>3.00632</td>\n",
       "      <td>4.00632</td>\n",
       "      <td>5.00632</td>\n",
       "      <td>6.00632</td>\n",
       "      <td>7.00632</td>\n",
       "      <td>8.00632</td>\n",
       "      <td>9.00632</td>\n",
       "      <td>10.00632</td>\n",
       "      <td>11.00632</td>\n",
       "      <td>12.00632</td>\n",
       "      <td>13.00632</td>\n",
       "    </tr>\n",
       "    <tr>\n",
       "      <th>1</th>\n",
       "      <td>0.02731</td>\n",
       "      <td>0.00000</td>\n",
       "      <td>7.07000</td>\n",
       "      <td>0.00000</td>\n",
       "      <td>0.46900</td>\n",
       "      <td>6.42100</td>\n",
       "      <td>78.90000</td>\n",
       "      <td>4.96710</td>\n",
       "      <td>2.00000</td>\n",
       "      <td>242.00000</td>\n",
       "      <td>17.80000</td>\n",
       "      <td>396.90000</td>\n",
       "      <td>9.14000</td>\n",
       "      <td>21.60000</td>\n",
       "    </tr>\n",
       "    <tr>\n",
       "      <th>2</th>\n",
       "      <td>0.02729</td>\n",
       "      <td>0.00000</td>\n",
       "      <td>7.07000</td>\n",
       "      <td>0.00000</td>\n",
       "      <td>0.46900</td>\n",
       "      <td>7.18500</td>\n",
       "      <td>61.10000</td>\n",
       "      <td>4.96710</td>\n",
       "      <td>2.00000</td>\n",
       "      <td>242.00000</td>\n",
       "      <td>17.80000</td>\n",
       "      <td>392.83000</td>\n",
       "      <td>4.03000</td>\n",
       "      <td>34.70000</td>\n",
       "    </tr>\n",
       "    <tr>\n",
       "      <th>3</th>\n",
       "      <td>0.03237</td>\n",
       "      <td>0.00000</td>\n",
       "      <td>2.18000</td>\n",
       "      <td>0.00000</td>\n",
       "      <td>0.45800</td>\n",
       "      <td>6.99800</td>\n",
       "      <td>45.80000</td>\n",
       "      <td>6.06220</td>\n",
       "      <td>3.00000</td>\n",
       "      <td>222.00000</td>\n",
       "      <td>18.70000</td>\n",
       "      <td>394.63000</td>\n",
       "      <td>2.94000</td>\n",
       "      <td>33.40000</td>\n",
       "    </tr>\n",
       "    <tr>\n",
       "      <th>4</th>\n",
       "      <td>0.06905</td>\n",
       "      <td>0.00000</td>\n",
       "      <td>2.18000</td>\n",
       "      <td>0.00000</td>\n",
       "      <td>0.45800</td>\n",
       "      <td>7.14700</td>\n",
       "      <td>54.20000</td>\n",
       "      <td>6.06220</td>\n",
       "      <td>3.00000</td>\n",
       "      <td>222.00000</td>\n",
       "      <td>18.70000</td>\n",
       "      <td>396.90000</td>\n",
       "      <td>5.33000</td>\n",
       "      <td>36.20000</td>\n",
       "    </tr>\n",
       "  </tbody>\n",
       "</table>\n",
       "</div>"
      ],
      "text/plain": [
       "      CRIM       ZN    INDUS     CHAS      NOX       RM       AGE      DIS  \\\n",
       "0  0.00632  1.00632  2.00632  3.00632  4.00632  5.00632   6.00632  7.00632   \n",
       "1  0.02731  0.00000  7.07000  0.00000  0.46900  6.42100  78.90000  4.96710   \n",
       "2  0.02729  0.00000  7.07000  0.00000  0.46900  7.18500  61.10000  4.96710   \n",
       "3  0.03237  0.00000  2.18000  0.00000  0.45800  6.99800  45.80000  6.06220   \n",
       "4  0.06905  0.00000  2.18000  0.00000  0.45800  7.14700  54.20000  6.06220   \n",
       "\n",
       "       RAD        TAX   PTRATIO          B     LSTAT      MEDV  \n",
       "0  8.00632    9.00632  10.00632   11.00632  12.00632  13.00632  \n",
       "1  2.00000  242.00000  17.80000  396.90000   9.14000  21.60000  \n",
       "2  2.00000  242.00000  17.80000  392.83000   4.03000  34.70000  \n",
       "3  3.00000  222.00000  18.70000  394.63000   2.94000  33.40000  \n",
       "4  3.00000  222.00000  18.70000  396.90000   5.33000  36.20000  "
      ]
     },
     "execution_count": 3,
     "metadata": {},
     "output_type": "execute_result"
    }
   ],
   "source": [
    "housing.head()"
   ]
  },
  {
   "cell_type": "code",
   "execution_count": 4,
   "id": "e7690909",
   "metadata": {},
   "outputs": [
    {
     "name": "stdout",
     "output_type": "stream",
     "text": [
      "<class 'pandas.core.frame.DataFrame'>\n",
      "RangeIndex: 504 entries, 0 to 503\n",
      "Data columns (total 14 columns):\n",
      " #   Column   Non-Null Count  Dtype  \n",
      "---  ------   --------------  -----  \n",
      " 0   CRIM     504 non-null    float64\n",
      " 1   ZN       504 non-null    float64\n",
      " 2   INDUS    504 non-null    float64\n",
      " 3   CHAS     504 non-null    float64\n",
      " 4   NOX      504 non-null    float64\n",
      " 5   RM       504 non-null    float64\n",
      " 6   AGE      504 non-null    float64\n",
      " 7   DIS      504 non-null    float64\n",
      " 8   RAD      504 non-null    float64\n",
      " 9   TAX      504 non-null    float64\n",
      " 10  PTRATIO  504 non-null    float64\n",
      " 11  B        504 non-null    float64\n",
      " 12  LSTAT    504 non-null    float64\n",
      " 13  MEDV     504 non-null    float64\n",
      "dtypes: float64(14)\n",
      "memory usage: 55.2 KB\n"
     ]
    }
   ],
   "source": [
    "housing.info()"
   ]
  },
  {
   "cell_type": "code",
   "execution_count": 5,
   "id": "34b68b5f",
   "metadata": {},
   "outputs": [
    {
     "data": {
      "text/plain": [
       "<bound method IndexOpsMixin.value_counts of 0      3.00632\n",
       "1      0.00000\n",
       "2      0.00000\n",
       "3      0.00000\n",
       "4      0.00000\n",
       "        ...   \n",
       "499    0.00000\n",
       "500    0.00000\n",
       "501    0.00000\n",
       "502    0.00000\n",
       "503    0.00000\n",
       "Name: CHAS, Length: 504, dtype: float64>"
      ]
     },
     "execution_count": 5,
     "metadata": {},
     "output_type": "execute_result"
    }
   ],
   "source": [
    "housing['CHAS'].value_counts"
   ]
  },
  {
   "cell_type": "code",
   "execution_count": 6,
   "id": "0844be53",
   "metadata": {},
   "outputs": [
    {
     "data": {
      "text/html": [
       "<div>\n",
       "<style scoped>\n",
       "    .dataframe tbody tr th:only-of-type {\n",
       "        vertical-align: middle;\n",
       "    }\n",
       "\n",
       "    .dataframe tbody tr th {\n",
       "        vertical-align: top;\n",
       "    }\n",
       "\n",
       "    .dataframe thead th {\n",
       "        text-align: right;\n",
       "    }\n",
       "</style>\n",
       "<table border=\"1\" class=\"dataframe\">\n",
       "  <thead>\n",
       "    <tr style=\"text-align: right;\">\n",
       "      <th></th>\n",
       "      <th>CRIM</th>\n",
       "      <th>ZN</th>\n",
       "      <th>INDUS</th>\n",
       "      <th>CHAS</th>\n",
       "      <th>NOX</th>\n",
       "      <th>RM</th>\n",
       "      <th>AGE</th>\n",
       "      <th>DIS</th>\n",
       "      <th>RAD</th>\n",
       "      <th>TAX</th>\n",
       "      <th>PTRATIO</th>\n",
       "      <th>B</th>\n",
       "      <th>LSTAT</th>\n",
       "      <th>MEDV</th>\n",
       "    </tr>\n",
       "  </thead>\n",
       "  <tbody>\n",
       "    <tr>\n",
       "      <th>count</th>\n",
       "      <td>504.000000</td>\n",
       "      <td>504.000000</td>\n",
       "      <td>504.000000</td>\n",
       "      <td>504.000000</td>\n",
       "      <td>504.000000</td>\n",
       "      <td>504.000000</td>\n",
       "      <td>504.000000</td>\n",
       "      <td>504.000000</td>\n",
       "      <td>504.000000</td>\n",
       "      <td>504.000000</td>\n",
       "      <td>504.000000</td>\n",
       "      <td>504.000000</td>\n",
       "      <td>504.000000</td>\n",
       "      <td>504.000000</td>\n",
       "    </tr>\n",
       "    <tr>\n",
       "      <th>mean</th>\n",
       "      <td>3.623418</td>\n",
       "      <td>11.375013</td>\n",
       "      <td>11.148068</td>\n",
       "      <td>0.075409</td>\n",
       "      <td>0.561643</td>\n",
       "      <td>6.282820</td>\n",
       "      <td>68.389893</td>\n",
       "      <td>3.800011</td>\n",
       "      <td>9.585330</td>\n",
       "      <td>408.069457</td>\n",
       "      <td>18.434933</td>\n",
       "      <td>356.083405</td>\n",
       "      <td>12.634794</td>\n",
       "      <td>22.535330</td>\n",
       "    </tr>\n",
       "    <tr>\n",
       "      <th>std</th>\n",
       "      <td>8.617172</td>\n",
       "      <td>23.360473</td>\n",
       "      <td>6.872160</td>\n",
       "      <td>0.286099</td>\n",
       "      <td>0.192656</td>\n",
       "      <td>0.705894</td>\n",
       "      <td>28.320150</td>\n",
       "      <td>2.114658</td>\n",
       "      <td>8.709392</td>\n",
       "      <td>169.613521</td>\n",
       "      <td>2.191253</td>\n",
       "      <td>92.567337</td>\n",
       "      <td>7.115300</td>\n",
       "      <td>9.214604</td>\n",
       "    </tr>\n",
       "    <tr>\n",
       "      <th>min</th>\n",
       "      <td>0.006320</td>\n",
       "      <td>0.000000</td>\n",
       "      <td>0.460000</td>\n",
       "      <td>0.000000</td>\n",
       "      <td>0.385000</td>\n",
       "      <td>3.561000</td>\n",
       "      <td>2.900000</td>\n",
       "      <td>1.129600</td>\n",
       "      <td>1.000000</td>\n",
       "      <td>9.006320</td>\n",
       "      <td>10.006320</td>\n",
       "      <td>0.320000</td>\n",
       "      <td>1.730000</td>\n",
       "      <td>5.000000</td>\n",
       "    </tr>\n",
       "    <tr>\n",
       "      <th>25%</th>\n",
       "      <td>0.081960</td>\n",
       "      <td>0.000000</td>\n",
       "      <td>5.175000</td>\n",
       "      <td>0.000000</td>\n",
       "      <td>0.449000</td>\n",
       "      <td>5.883000</td>\n",
       "      <td>44.225000</td>\n",
       "      <td>2.097050</td>\n",
       "      <td>4.000000</td>\n",
       "      <td>279.000000</td>\n",
       "      <td>17.375000</td>\n",
       "      <td>375.300000</td>\n",
       "      <td>6.990000</td>\n",
       "      <td>16.950000</td>\n",
       "    </tr>\n",
       "    <tr>\n",
       "      <th>50%</th>\n",
       "      <td>0.253715</td>\n",
       "      <td>0.000000</td>\n",
       "      <td>9.690000</td>\n",
       "      <td>0.000000</td>\n",
       "      <td>0.538000</td>\n",
       "      <td>6.208500</td>\n",
       "      <td>77.150000</td>\n",
       "      <td>3.190950</td>\n",
       "      <td>5.000000</td>\n",
       "      <td>330.000000</td>\n",
       "      <td>19.000000</td>\n",
       "      <td>391.385000</td>\n",
       "      <td>11.360000</td>\n",
       "      <td>21.200000</td>\n",
       "    </tr>\n",
       "    <tr>\n",
       "      <th>75%</th>\n",
       "      <td>3.681942</td>\n",
       "      <td>12.500000</td>\n",
       "      <td>18.100000</td>\n",
       "      <td>0.000000</td>\n",
       "      <td>0.624000</td>\n",
       "      <td>6.626000</td>\n",
       "      <td>94.100000</td>\n",
       "      <td>5.214600</td>\n",
       "      <td>24.000000</td>\n",
       "      <td>666.000000</td>\n",
       "      <td>20.200000</td>\n",
       "      <td>396.215000</td>\n",
       "      <td>16.945000</td>\n",
       "      <td>25.000000</td>\n",
       "    </tr>\n",
       "    <tr>\n",
       "      <th>max</th>\n",
       "      <td>88.976200</td>\n",
       "      <td>100.000000</td>\n",
       "      <td>27.740000</td>\n",
       "      <td>3.006320</td>\n",
       "      <td>4.006320</td>\n",
       "      <td>8.780000</td>\n",
       "      <td>100.000000</td>\n",
       "      <td>12.126500</td>\n",
       "      <td>24.000000</td>\n",
       "      <td>711.000000</td>\n",
       "      <td>22.000000</td>\n",
       "      <td>396.900000</td>\n",
       "      <td>37.970000</td>\n",
       "      <td>50.000000</td>\n",
       "    </tr>\n",
       "  </tbody>\n",
       "</table>\n",
       "</div>"
      ],
      "text/plain": [
       "             CRIM          ZN       INDUS        CHAS         NOX          RM  \\\n",
       "count  504.000000  504.000000  504.000000  504.000000  504.000000  504.000000   \n",
       "mean     3.623418   11.375013   11.148068    0.075409    0.561643    6.282820   \n",
       "std      8.617172   23.360473    6.872160    0.286099    0.192656    0.705894   \n",
       "min      0.006320    0.000000    0.460000    0.000000    0.385000    3.561000   \n",
       "25%      0.081960    0.000000    5.175000    0.000000    0.449000    5.883000   \n",
       "50%      0.253715    0.000000    9.690000    0.000000    0.538000    6.208500   \n",
       "75%      3.681942   12.500000   18.100000    0.000000    0.624000    6.626000   \n",
       "max     88.976200  100.000000   27.740000    3.006320    4.006320    8.780000   \n",
       "\n",
       "              AGE         DIS         RAD         TAX     PTRATIO           B  \\\n",
       "count  504.000000  504.000000  504.000000  504.000000  504.000000  504.000000   \n",
       "mean    68.389893    3.800011    9.585330  408.069457   18.434933  356.083405   \n",
       "std     28.320150    2.114658    8.709392  169.613521    2.191253   92.567337   \n",
       "min      2.900000    1.129600    1.000000    9.006320   10.006320    0.320000   \n",
       "25%     44.225000    2.097050    4.000000  279.000000   17.375000  375.300000   \n",
       "50%     77.150000    3.190950    5.000000  330.000000   19.000000  391.385000   \n",
       "75%     94.100000    5.214600   24.000000  666.000000   20.200000  396.215000   \n",
       "max    100.000000   12.126500   24.000000  711.000000   22.000000  396.900000   \n",
       "\n",
       "            LSTAT        MEDV  \n",
       "count  504.000000  504.000000  \n",
       "mean    12.634794   22.535330  \n",
       "std      7.115300    9.214604  \n",
       "min      1.730000    5.000000  \n",
       "25%      6.990000   16.950000  \n",
       "50%     11.360000   21.200000  \n",
       "75%     16.945000   25.000000  \n",
       "max     37.970000   50.000000  "
      ]
     },
     "execution_count": 6,
     "metadata": {},
     "output_type": "execute_result"
    }
   ],
   "source": [
    "housing.describe()"
   ]
  },
  {
   "cell_type": "code",
   "execution_count": 7,
   "id": "92a37b93",
   "metadata": {},
   "outputs": [],
   "source": [
    "%matplotlib inline"
   ]
  },
  {
   "cell_type": "code",
   "execution_count": 8,
   "id": "1bc1f27c",
   "metadata": {},
   "outputs": [],
   "source": [
    "# import matplotlib.pyplot as plt\n",
    "# housing.hist(bins=50, figsize=(20, 15))"
   ]
  },
  {
   "cell_type": "markdown",
   "id": "606f79a4",
   "metadata": {},
   "source": [
    "## TRAINING AND TESTING"
   ]
  },
  {
   "cell_type": "code",
   "execution_count": 9,
   "id": "8af708a0",
   "metadata": {},
   "outputs": [],
   "source": [
    "import numpy as np\n",
    "\n",
    "def split_train_test(data, test_ratio):\n",
    "    np.random.seed(42)\n",
    "    shuffled = np.random.permutation(len(data))\n",
    "    print(shuffled)\n",
    "    test_set_size = int(len(data) * test_ratio)\n",
    "    test_indices = shuffled[:test_set_size]\n",
    "    train_indices = shuffled[test_set_size:]\n",
    "    return data.iloc[train_indices], data.iloc[test_indices]"
   ]
  },
  {
   "cell_type": "code",
   "execution_count": 10,
   "id": "28083cab",
   "metadata": {},
   "outputs": [],
   "source": [
    "# train_set, test_set = split_train_test(housing, 0.2)"
   ]
  },
  {
   "cell_type": "code",
   "execution_count": 11,
   "id": "78d2e2e3",
   "metadata": {},
   "outputs": [
    {
     "name": "stdout",
     "output_type": "stream",
     "text": [
      "{101}\n",
      "{403}\n"
     ]
    }
   ],
   "source": [
    "from sklearn.model_selection import train_test_split\n",
    "train_set, test_set = train_test_split(housing, test_size=0.2,random_state=42)\n",
    "print({len(test_set)})\n",
    "print({len(train_set)})"
   ]
  },
  {
   "cell_type": "code",
   "execution_count": 12,
   "id": "f600fe01",
   "metadata": {},
   "outputs": [],
   "source": [
    "from sklearn.model_selection import StratifiedShuffleSplit\n",
    "split = StratifiedShuffleSplit(n_splits=1, test_size=0.2, random_state=42)\n",
    "stratify=housing['CHAS']\n"
   ]
  },
  {
   "cell_type": "code",
   "execution_count": 13,
   "id": "4174c084",
   "metadata": {},
   "outputs": [
    {
     "data": {
      "text/plain": [
       "0      3.00632\n",
       "1      0.00000\n",
       "2      0.00000\n",
       "3      0.00000\n",
       "4      0.00000\n",
       "        ...   \n",
       "499    0.00000\n",
       "500    0.00000\n",
       "501    0.00000\n",
       "502    0.00000\n",
       "503    0.00000\n",
       "Name: CHAS, Length: 504, dtype: float64"
      ]
     },
     "execution_count": 13,
     "metadata": {},
     "output_type": "execute_result"
    }
   ],
   "source": [
    "housing['CHAS']"
   ]
  },
  {
   "cell_type": "code",
   "execution_count": 14,
   "id": "98717bc9",
   "metadata": {},
   "outputs": [],
   "source": [
    "housing=train_set.copy()"
   ]
  },
  {
   "cell_type": "code",
   "execution_count": 15,
   "id": "32e1ab44",
   "metadata": {},
   "outputs": [],
   "source": [
    "corr_matrix = housing.corr()"
   ]
  },
  {
   "cell_type": "code",
   "execution_count": 16,
   "id": "9d190c96",
   "metadata": {},
   "outputs": [
    {
     "data": {
      "text/plain": [
       "MEDV       1.000000\n",
       "RM         0.682452\n",
       "B          0.343378\n",
       "ZN         0.337554\n",
       "DIS        0.224804\n",
       "CHAS       0.183256\n",
       "AGE       -0.358745\n",
       "RAD       -0.378943\n",
       "CRIM      -0.387779\n",
       "NOX       -0.414135\n",
       "TAX       -0.457022\n",
       "INDUS     -0.457975\n",
       "PTRATIO   -0.491144\n",
       "LSTAT     -0.743446\n",
       "Name: MEDV, dtype: float64"
      ]
     },
     "execution_count": 16,
     "metadata": {},
     "output_type": "execute_result"
    }
   ],
   "source": [
    "corr_matrix['MEDV'].sort_values(ascending=False)"
   ]
  },
  {
   "cell_type": "code",
   "execution_count": 17,
   "id": "3d4511af",
   "metadata": {},
   "outputs": [
    {
     "data": {
      "text/plain": [
       "array([[<AxesSubplot:xlabel='MEDV', ylabel='MEDV'>,\n",
       "        <AxesSubplot:xlabel='RM', ylabel='MEDV'>,\n",
       "        <AxesSubplot:xlabel='ZN', ylabel='MEDV'>,\n",
       "        <AxesSubplot:xlabel='LSTAT', ylabel='MEDV'>],\n",
       "       [<AxesSubplot:xlabel='MEDV', ylabel='RM'>,\n",
       "        <AxesSubplot:xlabel='RM', ylabel='RM'>,\n",
       "        <AxesSubplot:xlabel='ZN', ylabel='RM'>,\n",
       "        <AxesSubplot:xlabel='LSTAT', ylabel='RM'>],\n",
       "       [<AxesSubplot:xlabel='MEDV', ylabel='ZN'>,\n",
       "        <AxesSubplot:xlabel='RM', ylabel='ZN'>,\n",
       "        <AxesSubplot:xlabel='ZN', ylabel='ZN'>,\n",
       "        <AxesSubplot:xlabel='LSTAT', ylabel='ZN'>],\n",
       "       [<AxesSubplot:xlabel='MEDV', ylabel='LSTAT'>,\n",
       "        <AxesSubplot:xlabel='RM', ylabel='LSTAT'>,\n",
       "        <AxesSubplot:xlabel='ZN', ylabel='LSTAT'>,\n",
       "        <AxesSubplot:xlabel='LSTAT', ylabel='LSTAT'>]], dtype=object)"
      ]
     },
     "execution_count": 17,
     "metadata": {},
     "output_type": "execute_result"
    },
    {
     "data": {
      "image/png": "[encoded data removed]",
      "text/plain": [
       "<Figure size 864x576 with 16 Axes>"
      ]
     },
     "metadata": {
      "needs_background": "light"
     },
     "output_type": "display_data"
    }
   ],
   "source": [
    "from pandas.plotting import scatter_matrix\n",
    "attributes = [\"MEDV\", \"RM\", \"ZN\", \"LSTAT\"]\n",
    "scatter_matrix(housing[attributes], figsize =(12,8))"
   ]
  },
  {
   "cell_type": "code",
   "execution_count": 18,
   "id": "8149ad31",
   "metadata": {},
   "outputs": [
    {
     "data": {
      "text/plain": [
       "<AxesSubplot:xlabel='RM', ylabel='MEDV'>"
      ]
     },
     "execution_count": 18,
     "metadata": {},
     "output_type": "execute_result"
    },
    {
     "data": {
      "image/png": "[encoded data removed]",
      "text/plain": [
       "<Figure size 432x288 with 1 Axes>"
      ]
     },
     "metadata": {
      "needs_background": "light"
     },
     "output_type": "display_data"
    }
   ],
   "source": [
    "housing.plot(kind=\"scatter\", x=\"RM\", y=\"MEDV\", alpha=0.8)"
   ]
  },
  {
   "cell_type": "markdown",
   "id": "0f3e74aa",
   "metadata": {},
   "source": [
    "## ATTRIBUTE COMBINATIONS"
   ]
  },
  {
   "cell_type": "code",
   "execution_count": 19,
   "id": "475535bf",
   "metadata": {},
   "outputs": [],
   "source": [
    "housing[\"TAXRM\"]=housing['TAX']/housing['RM']"
   ]
  },
  {
   "cell_type": "code",
   "execution_count": 20,
   "id": "02873c8e",
   "metadata": {},
   "outputs": [
    {
     "data": {
      "text/html": [
       "<div>\n",
       "<style scoped>\n",
       "    .dataframe tbody tr th:only-of-type {\n",
       "        vertical-align: middle;\n",
       "    }\n",
       "\n",
       "    .dataframe tbody tr th {\n",
       "        vertical-align: top;\n",
       "    }\n",
       "\n",
       "    .dataframe thead th {\n",
       "        text-align: right;\n",
       "    }\n",
       "</style>\n",
       "<table border=\"1\" class=\"dataframe\">\n",
       "  <thead>\n",
       "    <tr style=\"text-align: right;\">\n",
       "      <th></th>\n",
       "      <th>CRIM</th>\n",
       "      <th>ZN</th>\n",
       "      <th>INDUS</th>\n",
       "      <th>CHAS</th>\n",
       "      <th>NOX</th>\n",
       "      <th>RM</th>\n",
       "      <th>AGE</th>\n",
       "      <th>DIS</th>\n",
       "      <th>RAD</th>\n",
       "      <th>TAX</th>\n",
       "      <th>PTRATIO</th>\n",
       "      <th>B</th>\n",
       "      <th>LSTAT</th>\n",
       "      <th>MEDV</th>\n",
       "      <th>TAXRM</th>\n",
       "    </tr>\n",
       "  </thead>\n",
       "  <tbody>\n",
       "    <tr>\n",
       "      <th>75</th>\n",
       "      <td>0.08707</td>\n",
       "      <td>0.0</td>\n",
       "      <td>12.83</td>\n",
       "      <td>0.0</td>\n",
       "      <td>0.437</td>\n",
       "      <td>6.140</td>\n",
       "      <td>45.8</td>\n",
       "      <td>4.0905</td>\n",
       "      <td>5.0</td>\n",
       "      <td>398.0</td>\n",
       "      <td>18.7</td>\n",
       "      <td>386.96</td>\n",
       "      <td>10.27</td>\n",
       "      <td>20.8</td>\n",
       "      <td>64.820847</td>\n",
       "    </tr>\n",
       "    <tr>\n",
       "      <th>442</th>\n",
       "      <td>12.80230</td>\n",
       "      <td>0.0</td>\n",
       "      <td>18.10</td>\n",
       "      <td>0.0</td>\n",
       "      <td>0.740</td>\n",
       "      <td>5.854</td>\n",
       "      <td>96.6</td>\n",
       "      <td>1.8956</td>\n",
       "      <td>24.0</td>\n",
       "      <td>666.0</td>\n",
       "      <td>20.2</td>\n",
       "      <td>240.52</td>\n",
       "      <td>23.79</td>\n",
       "      <td>10.8</td>\n",
       "      <td>113.768364</td>\n",
       "    </tr>\n",
       "    <tr>\n",
       "      <th>15</th>\n",
       "      <td>0.62739</td>\n",
       "      <td>0.0</td>\n",
       "      <td>8.14</td>\n",
       "      <td>0.0</td>\n",
       "      <td>0.538</td>\n",
       "      <td>5.834</td>\n",
       "      <td>56.5</td>\n",
       "      <td>4.4986</td>\n",
       "      <td>4.0</td>\n",
       "      <td>307.0</td>\n",
       "      <td>21.0</td>\n",
       "      <td>395.62</td>\n",
       "      <td>8.47</td>\n",
       "      <td>19.9</td>\n",
       "      <td>52.622557</td>\n",
       "    </tr>\n",
       "    <tr>\n",
       "      <th>325</th>\n",
       "      <td>0.24103</td>\n",
       "      <td>0.0</td>\n",
       "      <td>7.38</td>\n",
       "      <td>0.0</td>\n",
       "      <td>0.493</td>\n",
       "      <td>6.083</td>\n",
       "      <td>43.7</td>\n",
       "      <td>5.4159</td>\n",
       "      <td>5.0</td>\n",
       "      <td>287.0</td>\n",
       "      <td>19.6</td>\n",
       "      <td>396.90</td>\n",
       "      <td>12.79</td>\n",
       "      <td>22.2</td>\n",
       "      <td>47.180667</td>\n",
       "    </tr>\n",
       "    <tr>\n",
       "      <th>388</th>\n",
       "      <td>6.96215</td>\n",
       "      <td>0.0</td>\n",
       "      <td>18.10</td>\n",
       "      <td>0.0</td>\n",
       "      <td>0.700</td>\n",
       "      <td>5.713</td>\n",
       "      <td>97.0</td>\n",
       "      <td>1.9265</td>\n",
       "      <td>24.0</td>\n",
       "      <td>666.0</td>\n",
       "      <td>20.2</td>\n",
       "      <td>394.43</td>\n",
       "      <td>17.11</td>\n",
       "      <td>15.1</td>\n",
       "      <td>116.576230</td>\n",
       "    </tr>\n",
       "  </tbody>\n",
       "</table>\n",
       "</div>"
      ],
      "text/plain": [
       "         CRIM   ZN  INDUS  CHAS    NOX     RM   AGE     DIS   RAD    TAX  \\\n",
       "75    0.08707  0.0  12.83   0.0  0.437  6.140  45.8  4.0905   5.0  398.0   \n",
       "442  12.80230  0.0  18.10   0.0  0.740  5.854  96.6  1.8956  24.0  666.0   \n",
       "15    0.62739  0.0   8.14   0.0  0.538  5.834  56.5  4.4986   4.0  307.0   \n",
       "325   0.24103  0.0   7.38   0.0  0.493  6.083  43.7  5.4159   5.0  287.0   \n",
       "388   6.96215  0.0  18.10   0.0  0.700  5.713  97.0  1.9265  24.0  666.0   \n",
       "\n",
       "     PTRATIO       B  LSTAT  MEDV       TAXRM  \n",
       "75      18.7  386.96  10.27  20.8   64.820847  \n",
       "442     20.2  240.52  23.79  10.8  113.768364  \n",
       "15      21.0  395.62   8.47  19.9   52.622557  \n",
       "325     19.6  396.90  12.79  22.2   47.180667  \n",
       "388     20.2  394.43  17.11  15.1  116.576230  "
      ]
     },
     "execution_count": 20,
     "metadata": {},
     "output_type": "execute_result"
    }
   ],
   "source": [
    "housing.head()"
   ]
  },
  {
   "cell_type": "code",
   "execution_count": 21,
   "id": "570797cd",
   "metadata": {},
   "outputs": [
    {
     "data": {
      "text/plain": [
       "<AxesSubplot:xlabel='TAXRM', ylabel='MEDV'>"
      ]
     },
     "execution_count": 21,
     "metadata": {},
     "output_type": "execute_result"
    },
    {
     "data": {
      "image/png": "[encoded data removed]",
      "text/plain": [
       "<Figure size 432x288 with 1 Axes>"
      ]
     },
     "metadata": {
      "needs_background": "light"
     },
     "output_type": "display_data"
    }
   ],
   "source": [
    "housing.plot(kind=\"scatter\", x=\"TAXRM\", y=\"MEDV\", alpha=0.8)"
   ]
  },
  {
   "cell_type": "code",
   "execution_count": 22,
   "id": "8568a276",
   "metadata": {},
   "outputs": [
    {
     "data": {
      "text/plain": [
       "MEDV       1.000000\n",
       "RM         0.682452\n",
       "B          0.343378\n",
       "ZN         0.337554\n",
       "DIS        0.224804\n",
       "CHAS       0.183256\n",
       "AGE       -0.358745\n",
       "RAD       -0.378943\n",
       "CRIM      -0.387779\n",
       "NOX       -0.414135\n",
       "TAX       -0.457022\n",
       "INDUS     -0.457975\n",
       "PTRATIO   -0.491144\n",
       "TAXRM     -0.525788\n",
       "LSTAT     -0.743446\n",
       "Name: MEDV, dtype: float64"
      ]
     },
     "execution_count": 22,
     "metadata": {},
     "output_type": "execute_result"
    }
   ],
   "source": [
    "corr_matrix = housing.corr()\n",
    "corr_matrix['MEDV'].sort_values(ascending=False)"
   ]
  },
  {
   "cell_type": "code",
   "execution_count": 23,
   "id": "930c0e3d",
   "metadata": {},
   "outputs": [],
   "source": [
    "housing = train_set.drop(\"MEDV\", axis=1)\n",
    "housing_labels = train_set[\"MEDV\"].copy()"
   ]
  },
  {
   "cell_type": "code",
   "execution_count": 24,
   "id": "662b6b1e",
   "metadata": {},
   "outputs": [
    {
     "data": {
      "text/plain": [
       "SimpleImputer(strategy='median')"
      ]
     },
     "execution_count": 24,
     "metadata": {},
     "output_type": "execute_result"
    }
   ],
   "source": [
    "from sklearn.impute import SimpleImputer\n",
    "imputer = SimpleImputer(strategy=\"median\")\n",
    "imputer.fit(housing)"
   ]
  },
  {
   "cell_type": "code",
   "execution_count": 25,
   "id": "e64b0c20",
   "metadata": {},
   "outputs": [
    {
     "data": {
      "text/plain": [
       "array([2.6169e-01, 0.0000e+00, 8.5600e+00, 0.0000e+00, 5.3800e-01,\n",
       "       6.1950e+00, 7.6700e+01, 3.0992e+00, 5.0000e+00, 3.3500e+02,\n",
       "       1.8800e+01, 3.9145e+02, 1.1340e+01])"
      ]
     },
     "execution_count": 25,
     "metadata": {},
     "output_type": "execute_result"
    }
   ],
   "source": [
    "imputer.statistics_"
   ]
  },
  {
   "cell_type": "markdown",
   "id": "d316ec9e",
   "metadata": {},
   "source": [
    "## CREATING PIPELINE"
   ]
  },
  {
   "cell_type": "code",
   "execution_count": 26,
   "id": "a894541a",
   "metadata": {},
   "outputs": [],
   "source": [
    "from sklearn.pipeline import Pipeline\n",
    "from sklearn.preprocessing import StandardScaler\n",
    "my_pipeline = Pipeline([\n",
    "    ('imputer' , SimpleImputer(strategy=\"median\")),\n",
    "    ('std_scaler' , StandardScaler()),\n",
    "])"
   ]
  },
  {
   "cell_type": "code",
   "execution_count": 27,
   "id": "2602ff20",
   "metadata": {},
   "outputs": [],
   "source": [
    "housing_num_tr = my_pipeline.fit_transform(housing)"
   ]
  },
  {
   "cell_type": "code",
   "execution_count": 28,
   "id": "98354d26",
   "metadata": {},
   "outputs": [
    {
     "data": {
      "text/plain": [
       "(403, 13)"
      ]
     },
     "execution_count": 28,
     "metadata": {},
     "output_type": "execute_result"
    }
   ],
   "source": [
    "housing_num_tr.shape"
   ]
  },
  {
   "cell_type": "markdown",
   "id": "71c665f0",
   "metadata": {},
   "source": [
    "## MODEL SELECTION"
   ]
  },
  {
   "cell_type": "code",
   "execution_count": 29,
   "id": "0dada525",
   "metadata": {},
   "outputs": [
    {
     "data": {
      "text/plain": [
       "RandomForestRegressor()"
      ]
     },
     "execution_count": 29,
     "metadata": {},
     "output_type": "execute_result"
    }
   ],
   "source": [
    "from sklearn.linear_model import LinearRegression\n",
    "from sklearn.tree import DecisionTreeRegressor\n",
    "from sklearn.ensemble import RandomForestRegressor\n",
    "# model = LinearRegression()\n",
    "# model = DecisionTreeRegressor()\n",
    "model=RandomForestRegressor()\n",
    "model.fit(housing_num_tr, housing_labels)"
   ]
  },
  {
   "cell_type": "code",
   "execution_count": 30,
   "id": "5434f09f",
   "metadata": {},
   "outputs": [],
   "source": [
    "some_data = housing.iloc[:5]"
   ]
  },
  {
   "cell_type": "code",
   "execution_count": 31,
   "id": "2e10c014",
   "metadata": {},
   "outputs": [],
   "source": [
    "some_labels = housing_labels.iloc[:5]"
   ]
  },
  {
   "cell_type": "code",
   "execution_count": 32,
   "id": "69fddcdd",
   "metadata": {},
   "outputs": [],
   "source": [
    "prepared_data = my_pipeline.transform(some_data)"
   ]
  },
  {
   "cell_type": "code",
   "execution_count": 33,
   "id": "cc23f4a6",
   "metadata": {},
   "outputs": [
    {
     "data": {
      "text/plain": [
       "array([21.176, 10.695, 20.055, 21.699, 14.579])"
      ]
     },
     "execution_count": 33,
     "metadata": {},
     "output_type": "execute_result"
    }
   ],
   "source": [
    "model.predict(prepared_data)"
   ]
  },
  {
   "cell_type": "code",
   "execution_count": 34,
   "id": "8bc8451c",
   "metadata": {},
   "outputs": [
    {
     "data": {
      "text/plain": [
       "[20.8, 10.8, 19.9, 22.2, 15.1]"
      ]
     },
     "execution_count": 34,
     "metadata": {},
     "output_type": "execute_result"
    }
   ],
   "source": [
    "list(some_labels)"
   ]
  },
  {
   "cell_type": "markdown",
   "id": "574251bd",
   "metadata": {},
   "source": [
    "##MODEL EVALUATION"
   ]
  },
  {
   "cell_type": "code",
   "execution_count": 35,
   "id": "04c5baa7",
   "metadata": {},
   "outputs": [],
   "source": [
    "from sklearn.metrics import mean_squared_error\n",
    "housing_predictions = model.predict(housing_num_tr)\n",
    "lin_mse = mean_squared_error(housing_labels , housing_predictions)\n",
    "lin_rmse = np.sqrt(lin_mse)"
   ]
  },
  {
   "cell_type": "code",
   "execution_count": 36,
   "id": "823dc8e8",
   "metadata": {},
   "outputs": [
    {
     "data": {
      "text/plain": [
       "1.8620471513647667"
      ]
     },
     "execution_count": 36,
     "metadata": {},
     "output_type": "execute_result"
    }
   ],
   "source": [
    "lin_mse"
   ]
  },
  {
   "cell_type": "markdown",
   "id": "882dace7",
   "metadata": {},
   "source": [
    "## CROSS VALIDATION"
   ]
  },
  {
   "cell_type": "code",
   "execution_count": 37,
   "id": "2e03f86e",
   "metadata": {},
   "outputs": [],
   "source": [
    "from sklearn.model_selection import cross_val_score\n",
    "scores = cross_val_score(model,housing_num_tr, housing_labels, scoring=\"neg_mean_squared_error\" , cv=10)\n",
    "rmse_scores = np.sqrt(-scores)"
   ]
  },
  {
   "cell_type": "code",
   "execution_count": 38,
   "id": "9a61115e",
   "metadata": {},
   "outputs": [
    {
     "data": {
      "text/plain": [
       "array([3.38014377, 3.17291818, 3.51800468, 3.30876496, 5.48563498,\n",
       "       4.39481776, 2.27054954, 2.57987867, 2.87233922, 2.87948087])"
      ]
     },
     "execution_count": 38,
     "metadata": {},
     "output_type": "execute_result"
    }
   ],
   "source": [
    "rmse_scores"
   ]
  },
  {
   "cell_type": "code",
   "execution_count": 39,
   "id": "8f9f06c4",
   "metadata": {},
   "outputs": [],
   "source": [
    "def print_scores(scores):\n",
    "    print(\"Scores:\", scores)\n",
    "    print(\"Mean: \", scores.mean())\n",
    "    print(\"Standard deviation: \",scores.std())"
   ]
  },
  {
   "cell_type": "code",
   "execution_count": 40,
   "id": "5dd8c64c",
   "metadata": {},
   "outputs": [
    {
     "name": "stdout",
     "output_type": "stream",
     "text": [
      "Scores: [3.38014377 3.17291818 3.51800468 3.30876496 5.48563498 4.39481776\n",
      " 2.27054954 2.57987867 2.87233922 2.87948087]\n",
      "Mean:  3.3862532631445434\n",
      "Standard deviation:  0.8893524983484014\n"
     ]
    }
   ],
   "source": [
    "print_scores(rmse_scores)"
   ]
  },
  {
   "cell_type": "code",
   "execution_count": 41,
   "id": "2f024907",
   "metadata": {},
   "outputs": [
    {
     "data": {
      "text/plain": [
       "['Dragon.joblib']"
      ]
     },
     "execution_count": 41,
     "metadata": {},
     "output_type": "execute_result"
    }
   ],
   "source": [
    "from joblib import dump,load\n",
    "dump(model, 'Dragon.joblib')"
   ]
  },
  {
   "cell_type": "markdown",
   "id": "ddf85cb3",
   "metadata": {},
   "source": [
    "## TESTING\n"
   ]
  },
  {
   "cell_type": "code",
   "execution_count": 44,
   "id": "e484ae19",
   "metadata": {},
   "outputs": [
    {
     "name": "stdout",
     "output_type": "stream",
     "text": [
      "[28.369 35.189 16.99  24.394 29.264 20.638 12.952 14.59  20.817 20.953\n",
      " 29.962 18.774 27.993 28.459 23.422 24.703 16.356  6.961 32.664 14.898\n",
      " 43.124 47.305 19.585 25.431 19.928 14.971 25.778 23.453 20.955 20.876\n",
      " 21.749 14.965 11.642 21.964 14.227 17.698 34.854 19.676 19.882 22.712\n",
      " 19.613 20.778 22.378 23.694 23.192 25.236 21.109 23.283 18.206 22.763\n",
      " 21.074 45.613 14.281 20.128 20.354 21.831 14.62  28.711 20.007 20.885\n",
      " 24.938 30.455 33.863 18.965 12.253 19.683 14.978 22.028 30.888 14.759\n",
      " 18.892  8.243 20.541 14.911 20.949 11.162 17.778 22.076 12.02  13.801\n",
      " 22.039 15.228 44.5   14.816 21.156 26.836 14.257 24.379 28.121 15.325\n",
      " 28.585 20.679 17.708 30.888 19.216 15.012 22.82  12.154 27.146 27.061\n",
      " 31.197] [29.4, 33.2, 13.6, 24.1, 28.2, 21.2, 12.0, 13.4, 19.6, 16.8, 26.7, 18.9, 23.7, 28.0, 25.0, 23.8, 15.7, 10.5, 30.3, 13.0, 35.2, 45.4, 14.5, 22.4, 20.8, 14.9, 23.9, 23.8, 22.4, 18.3, 22.6, 14.1, 13.9, 25.0, 19.1, 15.6, 34.7, 18.5, 21.7, 21.4, 19.7, 17.8, 24.4, 24.2, 22.9, 22.0, 18.9, 22.8, 19.9, 13.00632, 18.9, 50.0, 14.5, 19.3, 21.1, 21.2, 15.4, 27.9, 22.5, 20.5, 23.5, 31.6, 31.7, 20.2, 17.9, 19.3, 12.5, 23.9, 26.6, 13.5, 14.4, 7.0, 17.8, 17.8, 20.3, 6.3, 19.5, 22.6, 11.3, 7.0, 21.7, 27.5, 50.0, 13.8, 21.6, 25.1, 13.8, 24.6, 28.4, 17.8, 29.9, 20.6, 18.4, 23.9, 21.9, 15.6, 22.2, 16.3, 22.0, 24.1, 23.6]\n"
     ]
    }
   ],
   "source": [
    "X_test = test_set.drop(\"MEDV\", axis=1)\n",
    "Y_test = test_set[\"MEDV\"].copy()\n",
    "X_test_prepared = my_pipeline.transform(X_test)\n",
    "final_predictions = model.predict(X_test_prepared)\n",
    "final_mse = mean_squared_error(Y_test, final_predictions)\n",
    "final_rmse = np.sqrt(final_mse)\n",
    "print(final_predictions, list(Y_test))"
   ]
  },
  {
   "cell_type": "code",
   "execution_count": 43,
   "id": "61001077",
   "metadata": {},
   "outputs": [
    {
     "data": {
      "text/plain": [
       "3.0874221209120427"
      ]
     },
     "execution_count": 43,
     "metadata": {},
     "output_type": "execute_result"
    }
   ],
   "source": [
    "final_rmse"
   ]
  },
  {
   "cell_type": "code",
   "execution_count": 46,
   "id": "32a2c637",
   "metadata": {},
   "outputs": [
    {
     "data": {
      "text/plain": [
       "array([-0.40441713, -0.5118271 ,  0.25276079, -0.25164367, -1.0119758 ,\n",
       "       -0.21823341, -0.79173772,  0.11953911, -0.52794025, -0.06545983,\n",
       "        0.16091802,  0.33387519, -0.31464096])"
      ]
     },
     "execution_count": 46,
     "metadata": {},
     "output_type": "execute_result"
    }
   ],
   "source": [
    "prepared_data[0]"
   ]
  },
  {
   "cell_type": "code",
   "execution_count": null,
   "id": "34017dd7",
   "metadata": {},
   "outputs": [],
   "source": []
  }
 ],
 "metadata": {
  "kernelspec": {
   "display_name": "Python 3",
   "language": "python",
   "name": "python3"
  },
  "language_info": {
   "codemirror_mode": {
    "name": "ipython",
    "version": 3
   },
   "file_extension": ".py",
   "mimetype": "text/x-python",
   "name": "python",
   "nbconvert_exporter": "python",
   "pygments_lexer": "ipython3",
   "version": "3.8.8"
  }
 },
 "nbformat": 4,
 "nbformat_minor": 5
}
